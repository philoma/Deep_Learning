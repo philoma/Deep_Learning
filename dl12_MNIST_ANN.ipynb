{
  "nbformat": 4,
  "nbformat_minor": 0,
  "metadata": {
    "colab": {
      "provenance": []
    },
    "kernelspec": {
      "name": "python3",
      "display_name": "Python 3"
    },
    "language_info": {
      "name": "python"
    }
  },
  "cells": [
    {
      "cell_type": "code",
      "execution_count": 21,
      "metadata": {
        "id": "H6Is3uEmR2zW"
      },
      "outputs": [],
      "source": [
        "import tensorflow\n",
        "from tensorflow import keras\n",
        "from tensorflow.keras import Sequential\n",
        "from tensorflow.keras.layers import Dense, Flatten"
      ]
    },
    {
      "cell_type": "code",
      "source": [
        "import warnings\n",
        "warnings.filterwarnings('ignore')"
      ],
      "metadata": {
        "id": "Ul3zH9dNTN0J"
      },
      "execution_count": 22,
      "outputs": []
    },
    {
      "cell_type": "code",
      "source": [
        "(X_train, y_train), (X_test, y_test)=keras.datasets.mnist.load_data()"
      ],
      "metadata": {
        "id": "3BTSVK4XTi4F"
      },
      "execution_count": 23,
      "outputs": []
    },
    {
      "cell_type": "code",
      "source": [
        "print('total data rows: ',X_train.shape[0]+X_test.shape[0])\n",
        "print('total data cols: ',X_train.shape[1])"
      ],
      "metadata": {
        "colab": {
          "base_uri": "https://localhost:8080/"
        },
        "id": "OGYn6qBiTy9C",
        "outputId": "7c3643d6-a71a-4173-bfbe-b0716949ae48"
      },
      "execution_count": 24,
      "outputs": [
        {
          "output_type": "stream",
          "name": "stdout",
          "text": [
            "total data rows:  70000\n",
            "total data cols:  28\n"
          ]
        }
      ]
    },
    {
      "cell_type": "code",
      "source": [
        "#flatten- hd layers ko 1 d array me covert krne k liye"
      ],
      "metadata": {
        "id": "l0xKafKMT3f2"
      },
      "execution_count": 25,
      "outputs": []
    },
    {
      "cell_type": "code",
      "source": [
        "X_train.shape"
      ],
      "metadata": {
        "colab": {
          "base_uri": "https://localhost:8080/"
        },
        "id": "S8Zisp4JaGz5",
        "outputId": "b901423e-9126-42fc-fd5b-e9bbb5e8aea7"
      },
      "execution_count": 26,
      "outputs": [
        {
          "output_type": "execute_result",
          "data": {
            "text/plain": [
              "(60000, 28, 28)"
            ]
          },
          "metadata": {},
          "execution_count": 26
        }
      ]
    },
    {
      "cell_type": "code",
      "source": [
        "model=Sequential()\n",
        "\n",
        "model.add(Flatten(input_shape=(28, 28))) # shape of data\n",
        "model.add(Dense(128, activation='relu')) # no need to tell # of i/p features since flatten ka o/p is directly feeded to the dense layer\n",
        "model.add(Dense(32, activation='relu'))\n",
        "model.add(Dense(10, activation='softmax')) # when more than 1 nodes in o/p layer, always ue softmx\n"
      ],
      "metadata": {
        "id": "jia1yRMZZxw1"
      },
      "execution_count": 27,
      "outputs": []
    },
    {
      "cell_type": "code",
      "source": [
        "model.summary()"
      ],
      "metadata": {
        "colab": {
          "base_uri": "https://localhost:8080/"
        },
        "id": "H5bvYjoIcl12",
        "outputId": "24d2b147-a7a8-412e-fd6d-5ae7b5deac9d"
      },
      "execution_count": 28,
      "outputs": [
        {
          "output_type": "stream",
          "name": "stdout",
          "text": [
            "Model: \"sequential_1\"\n",
            "_________________________________________________________________\n",
            " Layer (type)                Output Shape              Param #   \n",
            "=================================================================\n",
            " flatten_1 (Flatten)         (None, 784)               0         \n",
            "                                                                 \n",
            " dense_2 (Dense)             (None, 128)               100480    \n",
            "                                                                 \n",
            " dense_3 (Dense)             (None, 32)                4128      \n",
            "                                                                 \n",
            " dense_4 (Dense)             (None, 10)                330       \n",
            "                                                                 \n",
            "=================================================================\n",
            "Total params: 104,938\n",
            "Trainable params: 104,938\n",
            "Non-trainable params: 0\n",
            "_________________________________________________________________\n"
          ]
        }
      ]
    },
    {
      "cell_type": "code",
      "source": [
        "model.compile(loss='sparse_categorical_crossentropy', optimizer='Adam', metrics='accuracy') # sparse_categorical_crossentropy: we wont have to ohe the labels,"
      ],
      "metadata": {
        "id": "wTD-AAhAcovh"
      },
      "execution_count": 29,
      "outputs": []
    },
    {
      "cell_type": "code",
      "source": [
        "history=model.fit(X_train, y_train, epochs=25, validation_split=0.2)"
      ],
      "metadata": {
        "colab": {
          "base_uri": "https://localhost:8080/"
        },
        "id": "s0m9jKHE3OWO",
        "outputId": "282f2cbe-04e2-40e7-b66d-898a38390979"
      },
      "execution_count": 30,
      "outputs": [
        {
          "output_type": "stream",
          "name": "stdout",
          "text": [
            "Epoch 1/25\n",
            "1500/1500 [==============================] - 8s 5ms/step - loss: 1.6050 - accuracy: 0.6467 - val_loss: 0.7277 - val_accuracy: 0.8073\n",
            "Epoch 2/25\n",
            "1500/1500 [==============================] - 11s 7ms/step - loss: 0.5844 - accuracy: 0.8450 - val_loss: 0.5365 - val_accuracy: 0.8587\n",
            "Epoch 3/25\n",
            "1500/1500 [==============================] - 12s 8ms/step - loss: 0.4444 - accuracy: 0.8832 - val_loss: 0.3858 - val_accuracy: 0.8957\n",
            "Epoch 4/25\n",
            "1500/1500 [==============================] - 12s 8ms/step - loss: 0.3254 - accuracy: 0.9164 - val_loss: 0.3105 - val_accuracy: 0.9160\n",
            "Epoch 5/25\n",
            "1500/1500 [==============================] - 12s 8ms/step - loss: 0.2425 - accuracy: 0.9386 - val_loss: 0.2271 - val_accuracy: 0.9431\n",
            "Epoch 6/25\n",
            "1500/1500 [==============================] - 11s 7ms/step - loss: 0.1968 - accuracy: 0.9498 - val_loss: 0.2280 - val_accuracy: 0.9480\n",
            "Epoch 7/25\n",
            "1500/1500 [==============================] - 12s 8ms/step - loss: 0.1587 - accuracy: 0.9590 - val_loss: 0.2116 - val_accuracy: 0.9538\n",
            "Epoch 8/25\n",
            "1500/1500 [==============================] - 11s 7ms/step - loss: 0.1372 - accuracy: 0.9642 - val_loss: 0.2049 - val_accuracy: 0.9545\n",
            "Epoch 9/25\n",
            "1500/1500 [==============================] - 7s 5ms/step - loss: 0.1249 - accuracy: 0.9682 - val_loss: 0.1974 - val_accuracy: 0.9582\n",
            "Epoch 10/25\n",
            "1500/1500 [==============================] - 6s 4ms/step - loss: 0.1040 - accuracy: 0.9721 - val_loss: 0.1854 - val_accuracy: 0.9629\n",
            "Epoch 11/25\n",
            "1500/1500 [==============================] - 7s 5ms/step - loss: 0.1002 - accuracy: 0.9741 - val_loss: 0.1864 - val_accuracy: 0.9599\n",
            "Epoch 12/25\n",
            "1500/1500 [==============================] - 6s 4ms/step - loss: 0.0818 - accuracy: 0.9785 - val_loss: 0.1786 - val_accuracy: 0.9653\n",
            "Epoch 13/25\n",
            "1500/1500 [==============================] - 7s 4ms/step - loss: 0.0790 - accuracy: 0.9795 - val_loss: 0.1623 - val_accuracy: 0.9668\n",
            "Epoch 14/25\n",
            "1500/1500 [==============================] - 6s 4ms/step - loss: 0.0815 - accuracy: 0.9785 - val_loss: 0.1663 - val_accuracy: 0.9627\n",
            "Epoch 15/25\n",
            "1500/1500 [==============================] - 7s 5ms/step - loss: 0.0680 - accuracy: 0.9820 - val_loss: 0.1700 - val_accuracy: 0.9678\n",
            "Epoch 16/25\n",
            "1500/1500 [==============================] - 7s 4ms/step - loss: 0.0715 - accuracy: 0.9810 - val_loss: 0.1881 - val_accuracy: 0.9666\n",
            "Epoch 17/25\n",
            "1500/1500 [==============================] - 8s 6ms/step - loss: 0.0658 - accuracy: 0.9835 - val_loss: 0.1925 - val_accuracy: 0.9689\n",
            "Epoch 18/25\n",
            "1500/1500 [==============================] - 7s 4ms/step - loss: 0.0697 - accuracy: 0.9837 - val_loss: 0.2166 - val_accuracy: 0.9622\n",
            "Epoch 19/25\n",
            "1500/1500 [==============================] - 6s 4ms/step - loss: 0.0620 - accuracy: 0.9849 - val_loss: 0.2088 - val_accuracy: 0.9674\n",
            "Epoch 20/25\n",
            "1500/1500 [==============================] - 7s 4ms/step - loss: 0.0605 - accuracy: 0.9850 - val_loss: 0.2050 - val_accuracy: 0.9646\n",
            "Epoch 21/25\n",
            "1500/1500 [==============================] - 6s 4ms/step - loss: 0.0559 - accuracy: 0.9865 - val_loss: 0.1917 - val_accuracy: 0.9718\n",
            "Epoch 22/25\n",
            "1500/1500 [==============================] - 6s 4ms/step - loss: 0.0513 - accuracy: 0.9873 - val_loss: 0.2290 - val_accuracy: 0.9687\n",
            "Epoch 23/25\n",
            "1500/1500 [==============================] - 6s 4ms/step - loss: 0.0623 - accuracy: 0.9856 - val_loss: 0.2188 - val_accuracy: 0.9656\n",
            "Epoch 24/25\n",
            "1500/1500 [==============================] - 6s 4ms/step - loss: 0.0539 - accuracy: 0.9869 - val_loss: 0.2212 - val_accuracy: 0.9680\n",
            "Epoch 25/25\n",
            "1500/1500 [==============================] - 6s 4ms/step - loss: 0.0537 - accuracy: 0.9875 - val_loss: 0.2401 - val_accuracy: 0.9666\n"
          ]
        }
      ]
    },
    {
      "cell_type": "code",
      "source": [
        "y_prob=model.predict(X_test)"
      ],
      "metadata": {
        "colab": {
          "base_uri": "https://localhost:8080/"
        },
        "id": "t105LN5j31Ox",
        "outputId": "6dba422a-0d68-46da-ab3d-3c8f6d5e6d27"
      },
      "execution_count": 31,
      "outputs": [
        {
          "output_type": "stream",
          "name": "stdout",
          "text": [
            "313/313 [==============================] - 1s 2ms/step\n"
          ]
        }
      ]
    },
    {
      "cell_type": "code",
      "source": [
        "# probabibilties of being a 0,1,2,3,4,5,6,7,8,9"
      ],
      "metadata": {
        "id": "N5APORxu5NtU"
      },
      "execution_count": 32,
      "outputs": []
    },
    {
      "cell_type": "code",
      "source": [
        "y_pred=y_prob.argmax(axis=1) # konse index posotion pt value max he"
      ],
      "metadata": {
        "id": "jmd6Rc7-5VoW"
      },
      "execution_count": 33,
      "outputs": []
    },
    {
      "cell_type": "code",
      "source": [
        "y_pred"
      ],
      "metadata": {
        "colab": {
          "base_uri": "https://localhost:8080/"
        },
        "id": "Vrlr5V5e9q2h",
        "outputId": "f2eeb209-8d43-40fb-fb87-80de0c1b7072"
      },
      "execution_count": 34,
      "outputs": [
        {
          "output_type": "execute_result",
          "data": {
            "text/plain": [
              "array([7, 2, 1, ..., 4, 5, 6])"
            ]
          },
          "metadata": {},
          "execution_count": 34
        }
      ]
    },
    {
      "cell_type": "code",
      "source": [
        "#first img is 7, 2nd is 2, 3rd is 1,..."
      ],
      "metadata": {
        "id": "awahYUY0-BPm"
      },
      "execution_count": 35,
      "outputs": []
    },
    {
      "cell_type": "code",
      "source": [
        "from sklearn.metrics import accuracy_score"
      ],
      "metadata": {
        "id": "f2ovx_xW9u8Y"
      },
      "execution_count": 36,
      "outputs": []
    },
    {
      "cell_type": "code",
      "source": [
        "accuracy_score(y_test, y_pred)"
      ],
      "metadata": {
        "colab": {
          "base_uri": "https://localhost:8080/"
        },
        "id": "Npuco8Zm9zjG",
        "outputId": "b5448142-1f62-4043-e1be-1884f625d205"
      },
      "execution_count": 37,
      "outputs": [
        {
          "output_type": "execute_result",
          "data": {
            "text/plain": [
              "0.9692"
            ]
          },
          "metadata": {},
          "execution_count": 37
        }
      ]
    },
    {
      "cell_type": "code",
      "source": [
        "# cnn works even more better on img data"
      ],
      "metadata": {
        "id": "JWls1Hdw96ld"
      },
      "execution_count": 38,
      "outputs": []
    },
    {
      "cell_type": "code",
      "source": [
        "import matplotlib.pyplot as plt\n"
      ],
      "metadata": {
        "id": "vC8XTE5I_Lq1"
      },
      "execution_count": 39,
      "outputs": []
    },
    {
      "cell_type": "code",
      "source": [
        "plt.plot(history.history['loss'])\n",
        "plt.plot(history.history['val_loss'])"
      ],
      "metadata": {
        "colab": {
          "base_uri": "https://localhost:8080/",
          "height": 447
        },
        "id": "Eun7V7_7_RC4",
        "outputId": "1f1edd70-c650-42f3-a177-664e1ade88e5"
      },
      "execution_count": 40,
      "outputs": [
        {
          "output_type": "execute_result",
          "data": {
            "text/plain": [
              "[<matplotlib.lines.Line2D at 0x7c681bdf9b70>]"
            ]
          },
          "metadata": {},
          "execution_count": 40
        },
        {
          "output_type": "display_data",
          "data": {
            "text/plain": [
              "<Figure size 640x480 with 1 Axes>"
            ],
            "image/png": "[encoded data removed]"
          },
          "metadata": {}
        }
      ]
    },
    {
      "cell_type": "code",
      "source": [
        "plt.plot(history.history['accuracy'])\n",
        "plt.plot(history.history['val_accuracy'])"
      ],
      "metadata": {
        "colab": {
          "base_uri": "https://localhost:8080/",
          "height": 448
        },
        "id": "aypwzhV2_b8z",
        "outputId": "1106ee6c-8829-41e0-eb51-9b3879b59b5e"
      },
      "execution_count": 41,
      "outputs": [
        {
          "output_type": "execute_result",
          "data": {
            "text/plain": [
              "[<matplotlib.lines.Line2D at 0x7c681b4e6440>]"
            ]
          },
          "metadata": {},
          "execution_count": 41
        },
        {
          "output_type": "display_data",
          "data": {
            "text/plain": [
              "<Figure size 640x480 with 1 Axes>"
            ],
            "image/png": "[encoded data removed]"
          },
          "metadata": {}
        }
      ]
    },
    {
      "cell_type": "code",
      "source": [],
      "metadata": {
        "id": "S_sSyHIsA6xO"
      },
      "execution_count": null,
      "outputs": []
    },
    {
      "cell_type": "code",
      "source": [],
      "metadata": {
        "id": "l1Ac-DLSA6tD"
      },
      "execution_count": null,
      "outputs": []
    },
    {
      "cell_type": "code",
      "source": [],
      "metadata": {
        "id": "HgtHQEV5A6r7"
      },
      "execution_count": null,
      "outputs": []
    },
    {
      "cell_type": "code",
      "source": [
        "plt.imshow(X_test[0])"
      ],
      "metadata": {
        "colab": {
          "base_uri": "https://localhost:8080/",
          "height": 447
        },
        "id": "hybm-yX-A6qT",
        "outputId": "1e5fdaf2-0493-4138-9e9e-97c5e557aea5"
      },
      "execution_count": 46,
      "outputs": [
        {
          "output_type": "execute_result",
          "data": {
            "text/plain": [
              "<matplotlib.image.AxesImage at 0x7c6805c1bd60>"
            ]
          },
          "metadata": {},
          "execution_count": 46
        },
        {
          "output_type": "display_data",
          "data": {
            "text/plain": [
              "<Figure size 640x480 with 1 Axes>"
            ],
            "image/png": "[encoded data removed]"
          },
          "metadata": {}
        }
      ]
    },
    {
      "cell_type": "code",
      "source": [
        "model.predict(X_test[0].reshape(1,28,28)) # sneding 1 img of 28x28"
      ],
      "metadata": {
        "colab": {
          "base_uri": "https://localhost:8080/"
        },
        "id": "S_XsycLaA6ha",
        "outputId": "d537a41e-25a5-4b95-b680-21132de3d8f1"
      },
      "execution_count": 48,
      "outputs": [
        {
          "output_type": "stream",
          "name": "stdout",
          "text": [
            "1/1 [==============================] - 0s 20ms/step\n"
          ]
        },
        {
          "output_type": "execute_result",
          "data": {
            "text/plain": [
              "array([[2.9634680e-24, 4.5601134e-11, 1.0830971e-11, 1.0601346e-14,\n",
              "        4.2263054e-11, 4.0177177e-20, 0.0000000e+00, 1.0000000e+00,\n",
              "        1.7433314e-22, 3.4757443e-13]], dtype=float32)"
            ]
          },
          "metadata": {},
          "execution_count": 48
        }
      ]
    },
    {
      "cell_type": "code",
      "source": [
        "model.predict(X_test[0].reshape(1,28,28)).argmax(axis=1)"
      ],
      "metadata": {
        "colab": {
          "base_uri": "https://localhost:8080/"
        },
        "id": "sND9R3lbA6aM",
        "outputId": "5752196e-9d67-4d8a-a721-86e1ad8dfe70"
      },
      "execution_count": 51,
      "outputs": [
        {
          "output_type": "stream",
          "name": "stdout",
          "text": [
            "1/1 [==============================] - 0s 59ms/step\n"
          ]
        },
        {
          "output_type": "execute_result",
          "data": {
            "text/plain": [
              "array([7])"
            ]
          },
          "metadata": {},
          "execution_count": 51
        }
      ]
    },
    {
      "cell_type": "code",
      "source": [
        "#yayyyyyyy!!!!!!!!!!"
      ],
      "metadata": {
        "id": "fw_bWBtT_fQC"
      },
      "execution_count": 52,
      "outputs": []
    },
    {
      "cell_type": "code",
      "source": [],
      "metadata": {
        "id": "OE5o1MLdCcbF"
      },
      "execution_count": null,
      "outputs": []
    }
  ]
}