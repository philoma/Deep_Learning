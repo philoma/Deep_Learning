{
  "nbformat": 4,
  "nbformat_minor": 0,
  "metadata": {
    "colab": {
      "provenance": []
    },
    "kernelspec": {
      "name": "python3",
      "display_name": "Python 3"
    },
    "language_info": {
      "name": "python"
    }
  },
  "cells": [
    {
      "cell_type": "code",
      "execution_count": null,
      "metadata": {
        "id": "FqB7JZrTlnM3"
      },
      "outputs": [],
      "source": [
        "import tensorflow\n",
        "from tensorflow import keras\n",
        "from keras import Sequential\n",
        "from keras.layers import Dense, Conv2D, Flatten, AveragePooling2D\n",
        "from keras.datasets import mnist"
      ]
    },
    {
      "cell_type": "code",
      "source": [
        "(X_train, y_train), (X_test, y_test)=mnist.load_data()"
      ],
      "metadata": {
        "id": "2RhWpSchlr_g"
      },
      "execution_count": null,
      "outputs": []
    },
    {
      "cell_type": "code",
      "source": [
        "X_train[0].shape"
      ],
      "metadata": {
        "colab": {
          "base_uri": "https://localhost:8080/"
        },
        "id": "1e_kuyog4-NS",
        "outputId": "28438144-4561-4efa-f303-4ff487fb635c"
      },
      "execution_count": 46,
      "outputs": [
        {
          "output_type": "execute_result",
          "data": {
            "text/plain": [
              "(28, 28)"
            ]
          },
          "metadata": {},
          "execution_count": 46
        }
      ]
    },
    {
      "cell_type": "markdown",
      "source": [
        "#LeNet Architecture"
      ],
      "metadata": {
        "id": "fnM1LRzU3Fbs"
      }
    },
    {
      "cell_type": "code",
      "source": [
        "model=Sequential()\n",
        "\n",
        "# 1>\n",
        "model.add(Conv2D(6, kernel_size=(5,5), activation='tanh', padding='valid', input_shape=(32, 32, 1)))\n",
        "model.add(AveragePooling2D(pool_size=(2,2), strides=2, padding='valid'))\n",
        "\n",
        "# 2>\n",
        "model.add(Conv2D(16, kernel_size=(5,5), activation='tanh', padding='valid'))\n",
        "model.add(AveragePooling2D(pool_size=(2,2), strides=2, padding='valid'))\n",
        "\n",
        "model.add(Flatten())\n",
        "\n",
        "# 3>\n",
        "model.add(Dense(120, activation='tanh'))\n",
        "\n",
        "# 4>\n",
        "model.add(Dense(84, activation='tanh'))\n",
        "\n",
        "#o/p layer-\n",
        "# 5>\n",
        "model.add(Dense(10, activation='softmax'))"
      ],
      "metadata": {
        "id": "bXpUcsWlpWpZ"
      },
      "execution_count": 63,
      "outputs": []
    },
    {
      "cell_type": "code",
      "source": [
        "model.summary()"
      ],
      "metadata": {
        "colab": {
          "base_uri": "https://localhost:8080/"
        },
        "id": "nxsHnYLJw_Ge",
        "outputId": "5635f3dd-49fe-478a-8478-60eee245d6f2"
      },
      "execution_count": 64,
      "outputs": [
        {
          "output_type": "stream",
          "name": "stdout",
          "text": [
            "Model: \"sequential_7\"\n",
            "_________________________________________________________________\n",
            " Layer (type)                Output Shape              Param #   \n",
            "=================================================================\n",
            " conv2d_10 (Conv2D)          (None, 28, 28, 6)         156       \n",
            "                                                                 \n",
            " average_pooling2d_10 (Aver  (None, 14, 14, 6)         0         \n",
            " agePooling2D)                                                   \n",
            "                                                                 \n",
            " conv2d_11 (Conv2D)          (None, 10, 10, 16)        2416      \n",
            "                                                                 \n",
            " average_pooling2d_11 (Aver  (None, 5, 5, 16)          0         \n",
            " agePooling2D)                                                   \n",
            "                                                                 \n",
            " flatten_5 (Flatten)         (None, 400)               0         \n",
            "                                                                 \n",
            " dense_15 (Dense)            (None, 120)               48120     \n",
            "                                                                 \n",
            " dense_16 (Dense)            (None, 84)                10164     \n",
            "                                                                 \n",
            " dense_17 (Dense)            (None, 10)                850       \n",
            "                                                                 \n",
            "=================================================================\n",
            "Total params: 61706 (241.04 KB)\n",
            "Trainable params: 61706 (241.04 KB)\n",
            "Non-trainable params: 0 (0.00 Byte)\n",
            "_________________________________________________________________\n"
          ]
        }
      ]
    },
    {
      "cell_type": "code",
      "source": [
        "X_train[0].shape #28x28, koi ni, lets try on this only"
      ],
      "metadata": {
        "colab": {
          "base_uri": "https://localhost:8080/"
        },
        "id": "tkCzhs-E6njk",
        "outputId": "857c1c54-b530-4297-aca0-ea911fb8fad1"
      },
      "execution_count": 62,
      "outputs": [
        {
          "output_type": "execute_result",
          "data": {
            "text/plain": [
              "(28, 28)"
            ]
          },
          "metadata": {},
          "execution_count": 62
        }
      ]
    },
    {
      "cell_type": "code",
      "source": [
        "model=Sequential()\n",
        "model.add(Conv2D(6, kernel_size=(5,5), activation='tanh', padding='valid', input_shape=(28, 28, 1)))\n",
        "model.add(AveragePooling2D(pool_size=(2,2), strides=2, padding='valid'))\n",
        "model.add(Conv2D(16, kernel_size=(5,5), activation='tanh', padding='valid'))\n",
        "model.add(AveragePooling2D(pool_size=(2,2), strides=2, padding='valid'))\n",
        "model.add(Flatten())\n",
        "model.add(Dense(120, activation='tanh'))\n",
        "model.add(Dense(84, activation='tanh'))\n",
        "model.add(Dense(10, activation='softmax'))"
      ],
      "metadata": {
        "id": "Go4qQg5w6Flu"
      },
      "execution_count": null,
      "outputs": []
    },
    {
      "cell_type": "code",
      "source": [
        "model.compile(loss='sparse_categorical_crossentropy', optimizer='Adam', metrics=['accuracy'] )"
      ],
      "metadata": {
        "id": "KQPWqiuksKIL"
      },
      "execution_count": 49,
      "outputs": []
    },
    {
      "cell_type": "code",
      "source": [
        "history=model.fit(X_train, y_train, epochs=25, validation_split=0.2)"
      ],
      "metadata": {
        "colab": {
          "base_uri": "https://localhost:8080/"
        },
        "id": "m1TUI8OOsTt-",
        "outputId": "5d314d6d-fb92-4b41-9854-ed833c78bc52"
      },
      "execution_count": 50,
      "outputs": [
        {
          "output_type": "stream",
          "name": "stdout",
          "text": [
            "Epoch 1/25\n",
            "1500/1500 [==============================] - 28s 18ms/step - loss: 0.1750 - accuracy: 0.9476 - val_loss: 0.0782 - val_accuracy: 0.9772\n",
            "Epoch 2/25\n",
            "1500/1500 [==============================] - 26s 18ms/step - loss: 0.0744 - accuracy: 0.9763 - val_loss: 0.0597 - val_accuracy: 0.9830\n",
            "Epoch 3/25\n",
            "1500/1500 [==============================] - 26s 18ms/step - loss: 0.0537 - accuracy: 0.9827 - val_loss: 0.0656 - val_accuracy: 0.9808\n",
            "Epoch 4/25\n",
            "1500/1500 [==============================] - 28s 19ms/step - loss: 0.0426 - accuracy: 0.9862 - val_loss: 0.0594 - val_accuracy: 0.9822\n",
            "Epoch 5/25\n",
            "1500/1500 [==============================] - 26s 18ms/step - loss: 0.0356 - accuracy: 0.9887 - val_loss: 0.0521 - val_accuracy: 0.9853\n",
            "Epoch 6/25\n",
            "1500/1500 [==============================] - 28s 19ms/step - loss: 0.0284 - accuracy: 0.9904 - val_loss: 0.0467 - val_accuracy: 0.9862\n",
            "Epoch 7/25\n",
            "1500/1500 [==============================] - 34s 22ms/step - loss: 0.0257 - accuracy: 0.9920 - val_loss: 0.0499 - val_accuracy: 0.9850\n",
            "Epoch 8/25\n",
            "1500/1500 [==============================] - 27s 18ms/step - loss: 0.0236 - accuracy: 0.9927 - val_loss: 0.0503 - val_accuracy: 0.9855\n",
            "Epoch 9/25\n",
            "1500/1500 [==============================] - 35s 23ms/step - loss: 0.0219 - accuracy: 0.9926 - val_loss: 0.0570 - val_accuracy: 0.9855\n",
            "Epoch 10/25\n",
            "1500/1500 [==============================] - 36s 24ms/step - loss: 0.0189 - accuracy: 0.9940 - val_loss: 0.0535 - val_accuracy: 0.9845\n",
            "Epoch 11/25\n",
            "1500/1500 [==============================] - 26s 18ms/step - loss: 0.0193 - accuracy: 0.9934 - val_loss: 0.0508 - val_accuracy: 0.9868\n",
            "Epoch 12/25\n",
            "1500/1500 [==============================] - 26s 17ms/step - loss: 0.0149 - accuracy: 0.9949 - val_loss: 0.0504 - val_accuracy: 0.9867\n",
            "Epoch 13/25\n",
            "1500/1500 [==============================] - 27s 18ms/step - loss: 0.0137 - accuracy: 0.9958 - val_loss: 0.0504 - val_accuracy: 0.9870\n",
            "Epoch 14/25\n",
            "1500/1500 [==============================] - 34s 23ms/step - loss: 0.0120 - accuracy: 0.9961 - val_loss: 0.0555 - val_accuracy: 0.9851\n",
            "Epoch 15/25\n",
            "1500/1500 [==============================] - 34s 23ms/step - loss: 0.0112 - accuracy: 0.9963 - val_loss: 0.0476 - val_accuracy: 0.9877\n",
            "Epoch 16/25\n",
            "1500/1500 [==============================] - 26s 17ms/step - loss: 0.0134 - accuracy: 0.9956 - val_loss: 0.0456 - val_accuracy: 0.9874\n",
            "Epoch 17/25\n",
            "1500/1500 [==============================] - 26s 17ms/step - loss: 0.0092 - accuracy: 0.9968 - val_loss: 0.0528 - val_accuracy: 0.9873\n",
            "Epoch 18/25\n",
            "1500/1500 [==============================] - 27s 18ms/step - loss: 0.0129 - accuracy: 0.9961 - val_loss: 0.0458 - val_accuracy: 0.9875\n",
            "Epoch 19/25\n",
            "1500/1500 [==============================] - 27s 18ms/step - loss: 0.0100 - accuracy: 0.9965 - val_loss: 0.0686 - val_accuracy: 0.9838\n",
            "Epoch 20/25\n",
            "1500/1500 [==============================] - 27s 18ms/step - loss: 0.0094 - accuracy: 0.9968 - val_loss: 0.0501 - val_accuracy: 0.9881\n",
            "Epoch 21/25\n",
            "1500/1500 [==============================] - 26s 17ms/step - loss: 0.0073 - accuracy: 0.9977 - val_loss: 0.0657 - val_accuracy: 0.9847\n",
            "Epoch 22/25\n",
            "1500/1500 [==============================] - 27s 18ms/step - loss: 0.0103 - accuracy: 0.9964 - val_loss: 0.0471 - val_accuracy: 0.9877\n",
            "Epoch 23/25\n",
            "1500/1500 [==============================] - 27s 18ms/step - loss: 0.0070 - accuracy: 0.9978 - val_loss: 0.0483 - val_accuracy: 0.9885\n",
            "Epoch 24/25\n",
            "1500/1500 [==============================] - 26s 17ms/step - loss: 0.0095 - accuracy: 0.9969 - val_loss: 0.0552 - val_accuracy: 0.9862\n",
            "Epoch 25/25\n",
            "1500/1500 [==============================] - 28s 19ms/step - loss: 0.0088 - accuracy: 0.9969 - val_loss: 0.0562 - val_accuracy: 0.9862\n"
          ]
        }
      ]
    },
    {
      "cell_type": "code",
      "source": [
        "y_prob=model.predict(X_test)"
      ],
      "metadata": {
        "colab": {
          "base_uri": "https://localhost:8080/"
        },
        "id": "P6Y26gsStqnn",
        "outputId": "b004133e-b2d6-483d-c913-e0f84addb447"
      },
      "execution_count": 51,
      "outputs": [
        {
          "output_type": "stream",
          "name": "stdout",
          "text": [
            "313/313 [==============================] - 2s 6ms/step\n"
          ]
        }
      ]
    },
    {
      "cell_type": "code",
      "source": [
        "y_pred=y_prob.argmax(axis=1)"
      ],
      "metadata": {
        "id": "QiSHptLexMpU"
      },
      "execution_count": 52,
      "outputs": []
    },
    {
      "cell_type": "code",
      "source": [
        "y_pred"
      ],
      "metadata": {
        "colab": {
          "base_uri": "https://localhost:8080/"
        },
        "id": "h8MDCq5cxSD7",
        "outputId": "e31f61dc-640f-4e8c-e184-34733b74c3fb"
      },
      "execution_count": 53,
      "outputs": [
        {
          "output_type": "execute_result",
          "data": {
            "text/plain": [
              "array([7, 2, 1, ..., 4, 5, 6])"
            ]
          },
          "metadata": {},
          "execution_count": 53
        }
      ]
    },
    {
      "cell_type": "code",
      "source": [
        "from sklearn.metrics import accuracy_score"
      ],
      "metadata": {
        "id": "fNy1aM9GxUjm"
      },
      "execution_count": 54,
      "outputs": []
    },
    {
      "cell_type": "code",
      "source": [
        "accuracy_score(y_test, y_pred)\n"
      ],
      "metadata": {
        "colab": {
          "base_uri": "https://localhost:8080/"
        },
        "id": "bZenic7UxYXf",
        "outputId": "49b6760d-3261-45f3-8d48-ed8bd5d14ea1"
      },
      "execution_count": 55,
      "outputs": [
        {
          "output_type": "execute_result",
          "data": {
            "text/plain": [
              "0.9874"
            ]
          },
          "metadata": {},
          "execution_count": 55
        }
      ]
    },
    {
      "cell_type": "code",
      "source": [
        "import matplotlib.pyplot as plt\n"
      ],
      "metadata": {
        "id": "ow5agD82xZ7p"
      },
      "execution_count": 56,
      "outputs": []
    },
    {
      "cell_type": "code",
      "source": [
        "plt.plot(history.history['loss'])\n",
        "plt.plot(history.history['val_loss'])"
      ],
      "metadata": {
        "colab": {
          "base_uri": "https://localhost:8080/",
          "height": 447
        },
        "id": "tTDdfRu1xcWb",
        "outputId": "2eccef54-8227-412e-d33a-5782b9fdbe17"
      },
      "execution_count": 57,
      "outputs": [
        {
          "output_type": "execute_result",
          "data": {
            "text/plain": [
              "[<matplotlib.lines.Line2D at 0x791954ee6da0>]"
            ]
          },
          "metadata": {},
          "execution_count": 57
        },
        {
          "output_type": "display_data",
          "data": {
            "text/plain": [
              "<Figure size 640x480 with 1 Axes>"
            ],
            "image/png": "[encoded data removed]"
          },
          "metadata": {}
        }
      ]
    },
    {
      "cell_type": "code",
      "source": [
        "plt.plot(history.history['accuracy'])\n",
        "plt.plot(history.history['val_accuracy'])"
      ],
      "metadata": {
        "colab": {
          "base_uri": "https://localhost:8080/",
          "height": 450
        },
        "id": "whUJsdAWxeJd",
        "outputId": "422499ba-3099-4c4b-ed49-bddf529a9db9"
      },
      "execution_count": 58,
      "outputs": [
        {
          "output_type": "execute_result",
          "data": {
            "text/plain": [
              "[<matplotlib.lines.Line2D at 0x791954ef6680>]"
            ]
          },
          "metadata": {},
          "execution_count": 58
        },
        {
          "output_type": "display_data",
          "data": {
            "text/plain": [
              "<Figure size 640x480 with 1 Axes>"
            ],
            "image/png": "[encoded data removed]"
          },
          "metadata": {}
        }
      ]
    },
    {
      "cell_type": "code",
      "source": [
        "plt.imshow(X_test[1])\n"
      ],
      "metadata": {
        "colab": {
          "base_uri": "https://localhost:8080/",
          "height": 447
        },
        "id": "-uxB48r4xgVo",
        "outputId": "58b2e3b8-c1c1-45e9-da3f-88d20f8a206d"
      },
      "execution_count": 59,
      "outputs": [
        {
          "output_type": "execute_result",
          "data": {
            "text/plain": [
              "<matplotlib.image.AxesImage at 0x791954ef5840>"
            ]
          },
          "metadata": {},
          "execution_count": 59
        },
        {
          "output_type": "display_data",
          "data": {
            "text/plain": [
              "<Figure size 640x480 with 1 Axes>"
            ],
            "image/png": "[encoded data removed]"
          },
          "metadata": {}
        }
      ]
    },
    {
      "cell_type": "code",
      "source": [
        "model.predict(X_test[0].reshape(1,28,28))"
      ],
      "metadata": {
        "colab": {
          "base_uri": "https://localhost:8080/"
        },
        "id": "m8ipD3w0xizD",
        "outputId": "14b4dd98-0e81-4527-ed27-bd77c5d15309"
      },
      "execution_count": 60,
      "outputs": [
        {
          "output_type": "stream",
          "name": "stdout",
          "text": [
            "1/1 [==============================] - 0s 24ms/step\n"
          ]
        },
        {
          "output_type": "execute_result",
          "data": {
            "text/plain": [
              "array([[5.7956124e-09, 3.9607237e-09, 5.9474634e-09, 1.1997130e-07,\n",
              "        1.0907650e-10, 1.4931920e-11, 1.6159063e-14, 9.9999893e-01,\n",
              "        2.0660715e-09, 8.9902392e-07]], dtype=float32)"
            ]
          },
          "metadata": {},
          "execution_count": 60
        }
      ]
    },
    {
      "cell_type": "code",
      "source": [
        "model.predict(X_test[0].reshape(1,28,28)).argmax(axis=1)\n"
      ],
      "metadata": {
        "colab": {
          "base_uri": "https://localhost:8080/"
        },
        "id": "AXSHKsBxxrEt",
        "outputId": "652000bf-b1a2-434c-bc2c-8392321a74b2"
      },
      "execution_count": 61,
      "outputs": [
        {
          "output_type": "stream",
          "name": "stdout",
          "text": [
            "1/1 [==============================] - 0s 22ms/step\n"
          ]
        },
        {
          "output_type": "execute_result",
          "data": {
            "text/plain": [
              "array([7])"
            ]
          },
          "metadata": {},
          "execution_count": 61
        }
      ]
    },
    {
      "cell_type": "code",
      "source": [],
      "metadata": {
        "id": "WsCa0hfLxs5D"
      },
      "execution_count": 61,
      "outputs": []
    }
  ]
}