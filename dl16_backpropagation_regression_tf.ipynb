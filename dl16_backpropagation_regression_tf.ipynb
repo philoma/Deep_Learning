{
  "nbformat": 4,
  "nbformat_minor": 0,
  "metadata": {
    "colab": {
      "provenance": []
    },
    "kernelspec": {
      "name": "python3",
      "display_name": "Python 3"
    },
    "language_info": {
      "name": "python"
    }
  },
  "cells": [
    {
      "cell_type": "code",
      "execution_count": 14,
      "metadata": {
        "id": "RUBc1gGGXoIA"
      },
      "outputs": [],
      "source": [
        "import numpy as np\n",
        "import pandas as pd"
      ]
    },
    {
      "cell_type": "code",
      "source": [
        "df=pd.DataFrame([[8,8,4], [7, 9, 5], [6, 10, 6], [5, 12, 7]], columns=['cgpa', 'profile_score', 'lpa'])"
      ],
      "metadata": {
        "id": "hf4HDDHaX2OR"
      },
      "execution_count": 15,
      "outputs": []
    },
    {
      "cell_type": "code",
      "source": [
        "df.head()"
      ],
      "metadata": {
        "colab": {
          "base_uri": "https://localhost:8080/",
          "height": 174
        },
        "id": "gACGa5prYHhV",
        "outputId": "00c13694-d585-43e7-f950-92857df79f38"
      },
      "execution_count": 16,
      "outputs": [
        {
          "output_type": "execute_result",
          "data": {
            "text/plain": [
              "   cgpa  profile_score  lpa\n",
              "0     8              8    4\n",
              "1     7              9    5\n",
              "2     6             10    6\n",
              "3     5             12    7"
            ],
            "text/html": [
              "\n",
              "  <div id=\"df-51f27f11-826d-486c-8335-bc25f09b459c\" class=\"colab-df-container\">\n",
              "    <div>\n",
              "<style scoped>\n",
              "    .dataframe tbody tr th:only-of-type {\n",
              "        vertical-align: middle;\n",
              "    }\n",
              "\n",
              "    .dataframe tbody tr th {\n",
              "        vertical-align: top;\n",
              "    }\n",
              "\n",
              "    .dataframe thead th {\n",
              "        text-align: right;\n",
              "    }\n",
              "</style>\n",
              "<table border=\"1\" class=\"dataframe\">\n",
              "  <thead>\n",
              "    <tr style=\"text-align: right;\">\n",
              "      <th></th>\n",
              "      <th>cgpa</th>\n",
              "      <th>profile_score</th>\n",
              "      <th>lpa</th>\n",
              "    </tr>\n",
              "  </thead>\n",
              "  <tbody>\n",
              "    <tr>\n",
              "      <th>0</th>\n",
              "      <td>8</td>\n",
              "      <td>8</td>\n",
              "      <td>4</td>\n",
              "    </tr>\n",
              "    <tr>\n",
              "      <th>1</th>\n",
              "      <td>7</td>\n",
              "      <td>9</td>\n",
              "      <td>5</td>\n",
              "    </tr>\n",
              "    <tr>\n",
              "      <th>2</th>\n",
              "      <td>6</td>\n",
              "      <td>10</td>\n",
              "      <td>6</td>\n",
              "    </tr>\n",
              "    <tr>\n",
              "      <th>3</th>\n",
              "      <td>5</td>\n",
              "      <td>12</td>\n",
              "      <td>7</td>\n",
              "    </tr>\n",
              "  </tbody>\n",
              "</table>\n",
              "</div>\n",
              "    <div class=\"colab-df-buttons\">\n",
              "\n",
              "  <div class=\"colab-df-container\">\n",
              "    <button class=\"colab-df-convert\" onclick=\"convertToInteractive('df-51f27f11-826d-486c-8335-bc25f09b459c')\"\n",
              "            title=\"Convert this dataframe to an interactive table.\"\n",
              "            style=\"display:none;\">\n",
              "\n",
              "  <svg xmlns=\"http://www.w3.org/2000/svg\" height=\"24px\" viewBox=\"0 -960 960 960\">\n",
              "    <path d=\"M120-120v-720h720v720H120Zm60-500h600v-160H180v160Zm220 220h160v-160H400v160Zm0 220h160v-160H400v160ZM180-400h160v-160H180v160Zm440 0h160v-160H620v160ZM180-180h160v-160H180v160Zm440 0h160v-160H620v160Z\"/>\n",
              "  </svg>\n",
              "    </button>\n",
              "\n",
              "  <style>\n",
              "    .colab-df-container {\n",
              "      display:flex;\n",
              "      gap: 12px;\n",
              "    }\n",
              "\n",
              "    .colab-df-convert {\n",
              "      background-color: #E8F0FE;\n",
              "      border: none;\n",
              "      border-radius: 50%;\n",
              "      cursor: pointer;\n",
              "      display: none;\n",
              "      fill: #1967D2;\n",
              "      height: 32px;\n",
              "      padding: 0 0 0 0;\n",
              "      width: 32px;\n",
              "    }\n",
              "\n",
              "    .colab-df-convert:hover {\n",
              "      background-color: #E2EBFA;\n",
              "      box-shadow: 0px 1px 2px rgba(60, 64, 67, 0.3), 0px 1px 3px 1px rgba(60, 64, 67, 0.15);\n",
              "      fill: #174EA6;\n",
              "    }\n",
              "\n",
              "    .colab-df-buttons div {\n",
              "      margin-bottom: 4px;\n",
              "    }\n",
              "\n",
              "    [theme=dark] .colab-df-convert {\n",
              "      background-color: #3B4455;\n",
              "      fill: #D2E3FC;\n",
              "    }\n",
              "\n",
              "    [theme=dark] .colab-df-convert:hover {\n",
              "      background-color: #434B5C;\n",
              "      box-shadow: 0px 1px 3px 1px rgba(0, 0, 0, 0.15);\n",
              "      filter: drop-shadow(0px 1px 2px rgba(0, 0, 0, 0.3));\n",
              "      fill: #FFFFFF;\n",
              "    }\n",
              "  </style>\n",
              "\n",
              "    <script>\n",
              "      const buttonEl =\n",
              "        document.querySelector('#df-51f27f11-826d-486c-8335-bc25f09b459c button.colab-df-convert');\n",
              "      buttonEl.style.display =\n",
              "        google.colab.kernel.accessAllowed ? 'block' : 'none';\n",
              "\n",
              "      async function convertToInteractive(key) {\n",
              "        const element = document.querySelector('#df-51f27f11-826d-486c-8335-bc25f09b459c');\n",
              "        const dataTable =\n",
              "          await google.colab.kernel.invokeFunction('convertToInteractive',\n",
              "                                                    [key], {});\n",
              "        if (!dataTable) return;\n",
              "\n",
              "        const docLinkHtml = 'Like what you see? Visit the ' +\n",
              "          '<a target=\"_blank\" href=https://colab.research.google.com/notebooks/data_table.ipynb>data table notebook</a>'\n",
              "          + ' to learn more about interactive tables.';\n",
              "        element.innerHTML = '';\n",
              "        dataTable['output_type'] = 'display_data';\n",
              "        await google.colab.output.renderOutput(dataTable, element);\n",
              "        const docLink = document.createElement('div');\n",
              "        docLink.innerHTML = docLinkHtml;\n",
              "        element.appendChild(docLink);\n",
              "      }\n",
              "    </script>\n",
              "  </div>\n",
              "\n",
              "\n",
              "<div id=\"df-16fcb1ae-787a-4a76-bf91-e0d5e290e4c2\">\n",
              "  <button class=\"colab-df-quickchart\" onclick=\"quickchart('df-16fcb1ae-787a-4a76-bf91-e0d5e290e4c2')\"\n",
              "            title=\"Suggest charts.\"\n",
              "            style=\"display:none;\">\n",
              "\n",
              "<svg xmlns=\"http://www.w3.org/2000/svg\" height=\"24px\"viewBox=\"0 0 24 24\"\n",
              "     width=\"24px\">\n",
              "    <g>\n",
              "        <path d=\"M19 3H5c-1.1 0-2 .9-2 2v14c0 1.1.9 2 2 2h14c1.1 0 2-.9 2-2V5c0-1.1-.9-2-2-2zM9 17H7v-7h2v7zm4 0h-2V7h2v10zm4 0h-2v-4h2v4z\"/>\n",
              "    </g>\n",
              "</svg>\n",
              "  </button>\n",
              "\n",
              "<style>\n",
              "  .colab-df-quickchart {\n",
              "    background-color: #E8F0FE;\n",
              "    border: none;\n",
              "    border-radius: 50%;\n",
              "    cursor: pointer;\n",
              "    display: none;\n",
              "    fill: #1967D2;\n",
              "    height: 32px;\n",
              "    padding: 0 0 0 0;\n",
              "    width: 32px;\n",
              "  }\n",
              "\n",
              "  .colab-df-quickchart:hover {\n",
              "    background-color: #E2EBFA;\n",
              "    box-shadow: 0px 1px 2px rgba(60, 64, 67, 0.3), 0px 1px 3px 1px rgba(60, 64, 67, 0.15);\n",
              "    fill: #174EA6;\n",
              "  }\n",
              "\n",
              "  [theme=dark] .colab-df-quickchart {\n",
              "    background-color: #3B4455;\n",
              "    fill: #D2E3FC;\n",
              "  }\n",
              "\n",
              "  [theme=dark] .colab-df-quickchart:hover {\n",
              "    background-color: #434B5C;\n",
              "    box-shadow: 0px 1px 3px 1px rgba(0, 0, 0, 0.15);\n",
              "    filter: drop-shadow(0px 1px 2px rgba(0, 0, 0, 0.3));\n",
              "    fill: #FFFFFF;\n",
              "  }\n",
              "</style>\n",
              "\n",
              "  <script>\n",
              "    async function quickchart(key) {\n",
              "      const charts = await google.colab.kernel.invokeFunction(\n",
              "          'suggestCharts', [key], {});\n",
              "    }\n",
              "    (() => {\n",
              "      let quickchartButtonEl =\n",
              "        document.querySelector('#df-16fcb1ae-787a-4a76-bf91-e0d5e290e4c2 button');\n",
              "      quickchartButtonEl.style.display =\n",
              "        google.colab.kernel.accessAllowed ? 'block' : 'none';\n",
              "    })();\n",
              "  </script>\n",
              "</div>\n",
              "    </div>\n",
              "  </div>\n"
            ]
          },
          "metadata": {},
          "execution_count": 16
        }
      ]
    },
    {
      "cell_type": "code",
      "source": [
        "import tensorflow\n",
        "from tensorflow import keras\n",
        "from keras import Sequential\n",
        "from keras.layers import Dense"
      ],
      "metadata": {
        "id": "O4dxuCxUYK52"
      },
      "execution_count": 17,
      "outputs": []
    },
    {
      "cell_type": "code",
      "source": [
        "model=Sequential()\n",
        "\n",
        "model.add(Dense(2, activation='linear', input_dim=2))\n",
        "model.add(Dense(1, activation='linear'))"
      ],
      "metadata": {
        "id": "8HaZZYOHfoXx"
      },
      "execution_count": 18,
      "outputs": []
    },
    {
      "cell_type": "code",
      "source": [
        "model.summary()"
      ],
      "metadata": {
        "colab": {
          "base_uri": "https://localhost:8080/"
        },
        "id": "isbpU04Kf42t",
        "outputId": "87543812-eb01-4957-edc5-c659c1fc54c2"
      },
      "execution_count": 19,
      "outputs": [
        {
          "output_type": "stream",
          "name": "stdout",
          "text": [
            "Model: \"sequential_1\"\n",
            "_________________________________________________________________\n",
            " Layer (type)                Output Shape              Param #   \n",
            "=================================================================\n",
            " dense_2 (Dense)             (None, 2)                 6         \n",
            "                                                                 \n",
            " dense_3 (Dense)             (None, 1)                 3         \n",
            "                                                                 \n",
            "=================================================================\n",
            "Total params: 9\n",
            "Trainable params: 9\n",
            "Non-trainable params: 0\n",
            "_________________________________________________________________\n"
          ]
        }
      ]
    },
    {
      "cell_type": "code",
      "source": [
        "model.get_weights()"
      ],
      "metadata": {
        "colab": {
          "base_uri": "https://localhost:8080/"
        },
        "id": "zABHyfdbf9NR",
        "outputId": "c4b4e814-5568-494b-8864-6a412d083247"
      },
      "execution_count": 20,
      "outputs": [
        {
          "output_type": "execute_result",
          "data": {
            "text/plain": [
              "[array([[ 0.6120851 , -0.61622953],\n",
              "        [ 0.65308833,  0.3218037 ]], dtype=float32),\n",
              " array([0., 0.], dtype=float32),\n",
              " array([[0.71119964],\n",
              "        [0.25663114]], dtype=float32),\n",
              " array([0.], dtype=float32)]"
            ]
          },
          "metadata": {},
          "execution_count": 20
        }
      ]
    },
    {
      "cell_type": "code",
      "source": [
        "new_weights=[np.array([[0.1, 0.1],\n",
        "                       [0.1, 0.1]], dtype=np.float32),\n",
        "             np.array([0., 0.], dtype=np.float32),\n",
        "             np.array([[0.1], [0.1]], dtype=np.float32),\n",
        "             np.array([0.], dtype=np.float32)] #w's=1, b's=0"
      ],
      "metadata": {
        "id": "QdFXLvDUgGBF"
      },
      "execution_count": 21,
      "outputs": []
    },
    {
      "cell_type": "code",
      "source": [
        "model.set_weights(new_weights)"
      ],
      "metadata": {
        "id": "Gd9rSKlAhDxL"
      },
      "execution_count": 22,
      "outputs": []
    },
    {
      "cell_type": "code",
      "source": [
        "model.get_weights()"
      ],
      "metadata": {
        "colab": {
          "base_uri": "https://localhost:8080/"
        },
        "id": "dgPBgm9fhciO",
        "outputId": "052846ea-21ef-41ce-9404-a8ab8cdc70d0"
      },
      "execution_count": 23,
      "outputs": [
        {
          "output_type": "execute_result",
          "data": {
            "text/plain": [
              "[array([[0.1, 0.1],\n",
              "        [0.1, 0.1]], dtype=float32),\n",
              " array([0., 0.], dtype=float32),\n",
              " array([[0.1],\n",
              "        [0.1]], dtype=float32),\n",
              " array([0.], dtype=float32)]"
            ]
          },
          "metadata": {},
          "execution_count": 23
        }
      ]
    },
    {
      "cell_type": "code",
      "source": [
        "optimizer=keras.optimizers.Adam(learning_rate=0.001)\n",
        "model.compile(loss='mean_squared_error', optimizer=optimizer)"
      ],
      "metadata": {
        "id": "DSXJ4PHyhjT0"
      },
      "execution_count": 24,
      "outputs": []
    },
    {
      "cell_type": "code",
      "source": [
        "model.fit(df.iloc[:,:-1].values, df['lpa'].values, epochs=75, verbose=1, batch_size=1)"
      ],
      "metadata": {
        "colab": {
          "base_uri": "https://localhost:8080/"
        },
        "id": "H_9uQE17kAAJ",
        "outputId": "619cecb9-846b-4768-ead7-2dadf0fa5201"
      },
      "execution_count": 25,
      "outputs": [
        {
          "output_type": "stream",
          "name": "stdout",
          "text": [
            "Epoch 1/75\n",
            "4/4 [==============================] - 0s 3ms/step - loss: 27.8792\n",
            "Epoch 2/75\n",
            "4/4 [==============================] - 0s 4ms/step - loss: 27.5620\n",
            "Epoch 3/75\n",
            "4/4 [==============================] - 0s 3ms/step - loss: 27.2411\n",
            "Epoch 4/75\n",
            "4/4 [==============================] - 0s 2ms/step - loss: 26.8850\n",
            "Epoch 5/75\n",
            "4/4 [==============================] - 0s 2ms/step - loss: 26.5692\n",
            "Epoch 6/75\n",
            "4/4 [==============================] - 0s 2ms/step - loss: 26.2060\n",
            "Epoch 7/75\n",
            "4/4 [==============================] - 0s 2ms/step - loss: 25.8252\n",
            "Epoch 8/75\n",
            "4/4 [==============================] - 0s 2ms/step - loss: 25.4358\n",
            "Epoch 9/75\n",
            "4/4 [==============================] - 0s 3ms/step - loss: 25.0639\n",
            "Epoch 10/75\n",
            "4/4 [==============================] - 0s 3ms/step - loss: 24.6289\n",
            "Epoch 11/75\n",
            "4/4 [==============================] - 0s 3ms/step - loss: 24.2465\n",
            "Epoch 12/75\n",
            "4/4 [==============================] - 0s 3ms/step - loss: 23.7957\n",
            "Epoch 13/75\n",
            "4/4 [==============================] - 0s 3ms/step - loss: 23.3849\n",
            "Epoch 14/75\n",
            "4/4 [==============================] - 0s 3ms/step - loss: 22.9371\n",
            "Epoch 15/75\n",
            "4/4 [==============================] - 0s 3ms/step - loss: 22.4807\n",
            "Epoch 16/75\n",
            "4/4 [==============================] - 0s 2ms/step - loss: 21.9871\n",
            "Epoch 17/75\n",
            "4/4 [==============================] - 0s 3ms/step - loss: 21.5281\n",
            "Epoch 18/75\n",
            "4/4 [==============================] - 0s 2ms/step - loss: 21.0824\n",
            "Epoch 19/75\n",
            "4/4 [==============================] - 0s 3ms/step - loss: 20.5786\n",
            "Epoch 20/75\n",
            "4/4 [==============================] - 0s 3ms/step - loss: 20.0729\n",
            "Epoch 21/75\n",
            "4/4 [==============================] - 0s 4ms/step - loss: 19.5848\n",
            "Epoch 22/75\n",
            "4/4 [==============================] - 0s 3ms/step - loss: 19.0321\n",
            "Epoch 23/75\n",
            "4/4 [==============================] - 0s 3ms/step - loss: 18.5160\n",
            "Epoch 24/75\n",
            "4/4 [==============================] - 0s 3ms/step - loss: 18.0631\n",
            "Epoch 25/75\n",
            "4/4 [==============================] - 0s 4ms/step - loss: 17.5317\n",
            "Epoch 26/75\n",
            "4/4 [==============================] - 0s 4ms/step - loss: 16.9887\n",
            "Epoch 27/75\n",
            "4/4 [==============================] - 0s 2ms/step - loss: 16.4786\n",
            "Epoch 28/75\n",
            "4/4 [==============================] - 0s 3ms/step - loss: 15.9352\n",
            "Epoch 29/75\n",
            "4/4 [==============================] - 0s 2ms/step - loss: 15.3955\n",
            "Epoch 30/75\n",
            "4/4 [==============================] - 0s 4ms/step - loss: 14.8923\n",
            "Epoch 31/75\n",
            "4/4 [==============================] - 0s 5ms/step - loss: 14.3682\n",
            "Epoch 32/75\n",
            "4/4 [==============================] - 0s 4ms/step - loss: 13.8221\n",
            "Epoch 33/75\n",
            "4/4 [==============================] - 0s 4ms/step - loss: 13.3124\n",
            "Epoch 34/75\n",
            "4/4 [==============================] - 0s 3ms/step - loss: 12.7923\n",
            "Epoch 35/75\n",
            "4/4 [==============================] - 0s 2ms/step - loss: 12.3563\n",
            "Epoch 36/75\n",
            "4/4 [==============================] - 0s 4ms/step - loss: 11.8406\n",
            "Epoch 37/75\n",
            "4/4 [==============================] - 0s 3ms/step - loss: 11.2788\n",
            "Epoch 38/75\n",
            "4/4 [==============================] - 0s 2ms/step - loss: 10.7896\n",
            "Epoch 39/75\n",
            "4/4 [==============================] - 0s 2ms/step - loss: 10.3415\n",
            "Epoch 40/75\n",
            "4/4 [==============================] - 0s 3ms/step - loss: 9.8718\n",
            "Epoch 41/75\n",
            "4/4 [==============================] - 0s 2ms/step - loss: 9.4682\n",
            "Epoch 42/75\n",
            "4/4 [==============================] - 0s 3ms/step - loss: 9.0060\n",
            "Epoch 43/75\n",
            "4/4 [==============================] - 0s 2ms/step - loss: 8.4964\n",
            "Epoch 44/75\n",
            "4/4 [==============================] - 0s 3ms/step - loss: 8.1266\n",
            "Epoch 45/75\n",
            "4/4 [==============================] - 0s 3ms/step - loss: 7.6728\n",
            "Epoch 46/75\n",
            "4/4 [==============================] - 0s 2ms/step - loss: 7.3006\n",
            "Epoch 47/75\n",
            "4/4 [==============================] - 0s 2ms/step - loss: 6.9140\n",
            "Epoch 48/75\n",
            "4/4 [==============================] - 0s 2ms/step - loss: 6.5770\n",
            "Epoch 49/75\n",
            "4/4 [==============================] - 0s 2ms/step - loss: 6.2038\n",
            "Epoch 50/75\n",
            "4/4 [==============================] - 0s 3ms/step - loss: 5.8625\n",
            "Epoch 51/75\n",
            "4/4 [==============================] - 0s 2ms/step - loss: 5.5055\n",
            "Epoch 52/75\n",
            "4/4 [==============================] - 0s 2ms/step - loss: 5.1963\n",
            "Epoch 53/75\n",
            "4/4 [==============================] - 0s 2ms/step - loss: 4.9085\n",
            "Epoch 54/75\n",
            "4/4 [==============================] - 0s 3ms/step - loss: 4.5940\n",
            "Epoch 55/75\n",
            "4/4 [==============================] - 0s 2ms/step - loss: 4.3253\n",
            "Epoch 56/75\n",
            "4/4 [==============================] - 0s 2ms/step - loss: 4.1114\n",
            "Epoch 57/75\n",
            "4/4 [==============================] - 0s 2ms/step - loss: 3.8934\n",
            "Epoch 58/75\n",
            "4/4 [==============================] - 0s 2ms/step - loss: 3.6153\n",
            "Epoch 59/75\n",
            "4/4 [==============================] - 0s 2ms/step - loss: 3.3981\n",
            "Epoch 60/75\n",
            "4/4 [==============================] - 0s 2ms/step - loss: 3.2004\n",
            "Epoch 61/75\n",
            "4/4 [==============================] - 0s 3ms/step - loss: 3.0153\n",
            "Epoch 62/75\n",
            "4/4 [==============================] - 0s 4ms/step - loss: 2.8688\n",
            "Epoch 63/75\n",
            "4/4 [==============================] - 0s 3ms/step - loss: 2.6890\n",
            "Epoch 64/75\n",
            "4/4 [==============================] - 0s 3ms/step - loss: 2.5088\n",
            "Epoch 65/75\n",
            "4/4 [==============================] - 0s 4ms/step - loss: 2.4116\n",
            "Epoch 66/75\n",
            "4/4 [==============================] - 0s 4ms/step - loss: 2.2372\n",
            "Epoch 67/75\n",
            "4/4 [==============================] - 0s 2ms/step - loss: 2.1756\n",
            "Epoch 68/75\n",
            "4/4 [==============================] - 0s 2ms/step - loss: 2.0138\n",
            "Epoch 69/75\n",
            "4/4 [==============================] - 0s 2ms/step - loss: 1.9609\n",
            "Epoch 70/75\n",
            "4/4 [==============================] - 0s 2ms/step - loss: 1.8295\n",
            "Epoch 71/75\n",
            "4/4 [==============================] - 0s 3ms/step - loss: 1.7747\n",
            "Epoch 72/75\n",
            "4/4 [==============================] - 0s 2ms/step - loss: 1.6884\n",
            "Epoch 73/75\n",
            "4/4 [==============================] - 0s 4ms/step - loss: 1.6274\n",
            "Epoch 74/75\n",
            "4/4 [==============================] - 0s 2ms/step - loss: 1.5493\n",
            "Epoch 75/75\n",
            "4/4 [==============================] - 0s 2ms/step - loss: 1.4995\n"
          ]
        },
        {
          "output_type": "execute_result",
          "data": {
            "text/plain": [
              "<keras.callbacks.History at 0x7d3b995872b0>"
            ]
          },
          "metadata": {},
          "execution_count": 25
        }
      ]
    },
    {
      "cell_type": "code",
      "source": [
        "model.get_weights()"
      ],
      "metadata": {
        "colab": {
          "base_uri": "https://localhost:8080/"
        },
        "id": "Lx_aresWkaL0",
        "outputId": "3873eb3e-62e2-498b-fa85-89b8116ba1a3"
      },
      "execution_count": 26,
      "outputs": [
        {
          "output_type": "execute_result",
          "data": {
            "text/plain": [
              "[array([[0.3738627 , 0.3738627 ],\n",
              "        [0.36591327, 0.36591327]], dtype=float32),\n",
              " array([0.27258968, 0.27258968], dtype=float32),\n",
              " array([[0.3731961],\n",
              "        [0.3731961]], dtype=float32),\n",
              " array([0.20498349], dtype=float32)]"
            ]
          },
          "metadata": {},
          "execution_count": 26
        }
      ]
    }
  ]
}